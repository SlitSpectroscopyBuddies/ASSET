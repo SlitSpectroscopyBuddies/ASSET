{
 "cells": [
  {
   "cell_type": "markdown",
   "id": "2f2594d7",
   "metadata": {},
   "source": [
    "# ASSET demonstration\n",
    "\n",
    "This notebook aims at showing how to use the ASSET package to extract a spectrum\n",
    "from log-slit spectroscopy data. This example extracts the spectrum of a star\n",
    "companion from coronagraphic data.\n"
   ]
  },
  {
   "cell_type": "code",
   "execution_count": null,
   "id": "1e49f234",
   "metadata": {},
   "outputs": [],
   "source": [
    "# Load packages\n",
    "\n",
    "using EasyFITS\n",
    "using InverseProblem\n",
    "using LinearInterpolators\n",
    "using PyPlot\n",
    "const plt = PyPlot\n",
    "\n",
    "using ASSET\n"
   ]
  },
  {
   "cell_type": "code",
   "execution_count": null,
   "id": "77a0bdc1",
   "metadata": {},
   "outputs": [],
   "source": [
    "# Load data\n",
    "\n",
    "#read fits files\n",
    "dir = \"<PATH TO DATA>\"\n",
    "data = readfits(joinpath(dir, \"preprocessed_data.fits.gz\"))\n",
    "wgt = readfits(joinpath(dir, \"preprocessed_data_weights.fits.gz\"))\n",
    "calib = readfits(joinpath(dir, \"geometric_calibration.fits.gz\"))\n",
    "rho = calib[:, :, 1]\n",
    "lambda = calib[:, :, 2]\n",
    "mask = calib[:, :, 3]\n",
    "\n",
    "# angular separation from companion to center of coronagraphic mask\n",
    "rho_comp = -800*Exospeco.mas\n",
    "\n",
    "# create a CalibratedData structure\n",
    "D = CalibratedData(data, wgt, rho .- rho_comp, lambda)\n"
   ]
  },
  {
   "cell_type": "code",
   "execution_count": null,
   "id": "7008019c",
   "metadata": {},
   "outputs": [],
   "source": [
    "# Define the direct model and regularization parameters\n",
    "\n",
    "#spectral interpolator\n",
    "λmin=minimum(D.λ_map[D.λ_map.!=0])\n",
    "λmax=maximum(D.λ_map[D.λ_map.!=0])\n",
    "λz=range(λmin, length=Nz, stop=λmax)\n",
    "ker = CatmullRomSpline(Float64, Flat)\n",
    "F = SparseInterpolator(ker, D.λ_map, λz)\n",
    "\n",
    "#psf model\n",
    "psf_center_bnds = 1e2\n",
    "αinit = 0.1*maximum(D.λ_map)^(-2)\n",
    "h = chromGaussianPSF(αinit)\n",
    "psf_params_bnds = [(0., 1e2)]\n",
    "\n",
    "#companion SED regularization\n",
    "hpz = 5e4\n",
    "Rz = hpz*tikhonov()\n",
    "\n",
    "#background regularization\n",
    "Rb = 1e1*tikhonov()\n",
    "b = BkgMdl(zeros(size(D)), Rb)\n"
   ]
  },
  {
   "cell_type": "code",
   "execution_count": null,
   "id": "dd71d0f3",
   "metadata": {},
   "outputs": [],
   "source": [
    "# Extract the spectrum\n",
    "\n",
    "#initialize\n",
    "Nz = size(D)[2]\n",
    "z = zeros(Nz)\n",
    "\n",
    "z, hfp = extract_spectrum!(z, F, h, D ,Rz, b;\n",
    "                           auto_calib=Val(false),\n",
    "                           extract_kwds=(psf_params_bnds=psf_params_bnds, \n",
    "                                         psf_center_bnds=psf_center_bnds),\n",
    "                           loss_tol=(0.0, 1e-5), z_tol=(0.0, 1e-5))\n"
   ]
  }
 ],
 "metadata": {
  "kernelspec": {
   "display_name": "Julia 1.11.6",
   "language": "julia",
   "name": "julia-1.11"
  },
  "language_info": {
   "file_extension": ".jl",
   "mimetype": "application/julia",
   "name": "julia",
   "version": "1.11.6"
  }
 },
 "nbformat": 4,
 "nbformat_minor": 5
}
