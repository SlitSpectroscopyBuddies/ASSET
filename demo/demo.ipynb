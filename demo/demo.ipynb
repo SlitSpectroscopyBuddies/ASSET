{
 "cells": [
  {
   "cell_type": "markdown",
   "id": "2f2594d7",
   "metadata": {},
   "source": [
    "# ASSET demonstration\n",
    "\n",
    "This notebook aims at showing how to use the ASSET package to extract a spectrum\n",
    "from log-slit spectroscopy data. This example extracts the spectrum of a star\n",
    "companion from coronagraphic data.\n"
   ]
  },
  {
   "cell_type": "code",
   "execution_count": 1,
   "id": "1e49f234",
   "metadata": {},
   "outputs": [],
   "source": [
    "# Load packages\n",
    "using DelimitedFiles\n",
    "using InterpolationKernels\n",
    "using LinearInterpolators\n",
    "using InverseProblem\n",
    "\n",
    "using ASSET"
   ]
  },
  {
   "cell_type": "markdown",
   "id": "0d799ef9",
   "metadata": {},
   "source": [
    "## Generation of a Toy Model\n",
    "\n",
    "The following cells generate a Toy Model to present how to use ASSET.\n",
    "The spectrum used in the Toy Model was obtained from the P330 E CALSPEC reference spectrum (Bohlin, Gordon & Tremblay 2014). We use a version of this spectrum sampled with 1024 points between 0.5 and 10 microns.\n",
    "The PSF used in the Toy Model was obtained from the P330 E MIRI LRS data (see Figure 3. and 4. of the paper). We used the two-order non-parametric PSF.\n",
    "We generate some spatial and spectral coordinate maps align on the grid."
   ]
  },
  {
   "cell_type": "code",
   "execution_count": null,
   "id": "ec7604bf",
   "metadata": {},
   "outputs": [
    {
     "data": {
      "text/plain": [
       "SeriesExpansionPSF{Float64, Matrix{Float64}, CatmullRomSpline{Float64, Flat}, WeightedTikhonov{Float64}}([1.2206859465191305e-178 2.3931578518560086e-178; 2.6672069254846737e-173 5.22906515244003e-173; … ; 1.2036534537864966e-169 2.325974592264908e-169; 1.2029757830162813e-174 2.3246650439881643e-174], 0.58, CatmullRomSpline{Float64, Flat}(), Weighted Tikhonov:\n",
       " - level `mu` : 1.0\n",
       " - weights` : [1.0 1.0; 1.0 1.0; … ; 1.0 1.0; 1.0 1.0;;; 0.0 0.0; 0.0 0.0; … ; 0.0 0.0; 0.0 0.0])"
      ]
     },
     "execution_count": 2,
     "metadata": {},
     "output_type": "execute_result"
    }
   ],
   "source": [
    "# Interpolation kernel \n",
    "ker = CatmullRomSpline(Float64, Flat)\n",
    "\n",
    "# Get the Toy Model spectrum\n",
    "lz = readdlm(\"p330e_for_toymodel.txt\");\n",
    "l_tm=lz[:,1]\n",
    "z_tm=lz[:,2]\n",
    "λmin=l_tm[1]\n",
    "λmax=l_tm[end]\n",
    "\n",
    "Nz=length(z_tm)\n",
    "# Get the Toy Model PSF and its data\n",
    "h2=readdlm(\"nonparametric_parameters_at_order_2.txt\") #FIXME : the PSF is not centered in psf_size/2, may be problematic? (It is here but just for data generation)\n",
    "shift2=0.58 # generate an arbitrary shift of the PSF\n",
    "order2=size(h2)[2]\n",
    "psf_size=size(h2)[1]\n",
    "\n",
    "# Generate an arbitrary regularization for the PSF structure\n",
    "hph=1e0\n",
    "wh=cat(ones(psf_size,order2),zeros(psf_size,order2),dims=3)\n",
    "Rh=WeightedTikhonov(hph, wh);\n",
    "\n",
    "# Generate a non-parametric PSF of order 2\n",
    "h_tm=ASSET.SeriesExpansionPSF(h2, shift2,ker ,Rh)"
   ]
  },
  {
   "cell_type": "code",
   "execution_count": 3,
   "id": "02a4d844",
   "metadata": {},
   "outputs": [
    {
     "data": {
      "text/plain": [
       "CalibratedData{Float64}:\n",
       " - scientific data `d` : Array{Float64, 3}\n",
       " - weight of data `w` : Array{Float64, 3}\n",
       " - spatial map `ρ_map` : Array{Float64, 3}\n",
       " - spectral map `λ_map` : Array{Float64, 3}"
      ]
     },
     "execution_count": 3,
     "metadata": {},
     "output_type": "execute_result"
    }
   ],
   "source": [
    "m = 840 # Number of columns in the data\n",
    "n = 42  # Number of rows in the data\n",
    "lambda = repeat(collect(range(λmin, stop=λmax, length=m))', outer=(n,1,2)) # generate a spectral map for two dithers\n",
    "rho = cat(repeat(collect(range(-n/3, step=1, length=n)), outer=(1,m)),\n",
    "          repeat(collect(range(-2*n/3, step=1, length=n)), outer=(1,m)), dims=3) #generate spatial map for two dithers\n",
    "\n",
    "\n",
    "λz=range(λmin, length=Nz, stop=λmax); #Sampling for the spectrum extraction\n",
    "F = SparseInterpolator(ker, lambda, λz) #Interpolator for the spectrum\n",
    "\n",
    "H=zeros(n,m,2)\n",
    "psf_map!(H, h_tm, rho, lambda)\n",
    "tm=H.*(F*z_tm)\n",
    "\n",
    "data = tm .+ sqrt.(tm .+ 1e-6).*randn(n,m,2) #Generate some data with i.i.d photon noise and some readout noise of var 1e-6\n",
    "wgt = (rand(n,m,1) .< 0.9)./(tm .+ 1e-6) #Generate some weiths as the inverse of the diagonal covariance of the data and with some defective pixels\n",
    "\n",
    "D = CalibratedData(data, wgt, rho, lambda)"
   ]
  },
  {
   "cell_type": "markdown",
   "id": "f6e3b7d7",
   "metadata": {},
   "source": [
    "## Extractions examples\n"
   ]
  },
  {
   "cell_type": "code",
   "execution_count": 4,
   "id": "0eaca306",
   "metadata": {},
   "outputs": [
    {
     "data": {
      "text/plain": [
       "BkgMdl{Float64, 2, @NamedTuple{lower::Float64}}([0.0 0.0 … 0.0 0.0; 0.0 0.0 … 0.0 0.0; … ; 0.0 0.0 … 0.0 0.0; 0.0 0.0 … 0.0 0.0], HomogenRegul:\n",
       " - level `mu` : 10.0\n",
       " - function `func` : InverseProblem.Tikhonov()\n",
       " - use direct inversion `direct_inversion` : true\n",
       " - degree `deg` : 2.0, (lower = 0.0,))"
      ]
     },
     "execution_count": 4,
     "metadata": {},
     "output_type": "execute_result"
    }
   ],
   "source": [
    "hpz=1e-4 #regularization parameter for the spectrum\n",
    "hpb=1e1  #regularization parameter for the background\n",
    "Rz=WeightedTikhonov(hpz, ones(Nz,1)) #Spectrum regularization\n",
    "Rb=hpb*tikhonov() #Background regularization\n",
    "\n",
    "b=ASSET.BkgMdl(zeros(n,m), Rb) #Background model"
   ]
  },
  {
   "cell_type": "markdown",
   "id": "6cfda2a1",
   "metadata": {},
   "source": [
    "###  Parametric models\n",
    "#### Chromatic Gaussian"
   ]
  },
  {
   "cell_type": "code",
   "execution_count": 5,
   "id": "598c4fe7",
   "metadata": {},
   "outputs": [
    {
     "ename": "LoadError",
     "evalue": "StackOverflowError:",
     "output_type": "error",
     "traceback": [
      "StackOverflowError:",
      ""
     ]
    }
   ],
   "source": [
    "parinit = maximum(lambda)^(-2)\n",
    "psf_params_bnds=[(1e-8, 1.)] #The bounds of the gaussian psf parameter for the autocalibration\n",
    "center_bnds=2. #The bounds of the gaussian center for the autocalibration\n",
    "h_pg=ASSET.chromGaussianPSF(parinit)\n",
    "z_pg=zeros(Nz); \n",
    "\n",
    "z_fpg,h_fpg =ASSET.extract_spectrum!(z_pg, F, h_pg, D, Rz, b;\n",
    "                                    auto_calib=Val(true),\n",
    "                                    max_iter=10,\n",
    "                                    extract_kwds=(psf_params_bnds=psf_params_bnds,\n",
    "                                                  psf_center_bnd=center_bnds,\n",
    "                                                  max_iter=10))"
   ]
  },
  {
   "cell_type": "markdown",
   "id": "8d7e3988",
   "metadata": {},
   "source": [
    "#### Chromatic Moffat"
   ]
  },
  {
   "cell_type": "code",
   "execution_count": null,
   "id": "569121df",
   "metadata": {},
   "outputs": [],
   "source": [
    "parinit = [hfpg.a, 2.]\n",
    "psf_params_bnds=[(0., 3.);(1., 3.)]\n",
    "center_bnds=2.\n",
    "h_pm=ASSET.chromMoffatPSF(parinit)\n",
    "z_pm=zeros(Nz)\n",
    "\n",
    "z_fpm,h_fpm =ASSET.extract_spectrum!(z_pm, F, h_pm, D ,Rz, b;\n",
    "                                    auto_calib=Val(true),\n",
    "                                    max_iter=100,\n",
    "                                    extract_kwds=(psf_params_bnds=psf_params_bnds, \n",
    "                                                    psf_center_bnd=center_bnds,\n",
    "                                                    max_iter=10))        "
   ]
  },
  {
   "cell_type": "markdown",
   "id": "56e74d44",
   "metadata": {},
   "source": [
    "### Series expansion PSF\n",
    "\n",
    "#### With one order"
   ]
  },
  {
   "cell_type": "code",
   "execution_count": null,
   "id": "d55753ae",
   "metadata": {},
   "outputs": [],
   "source": [
    "order=1\n",
    "\n",
    "shift_bnds=(-1.,1.)\n",
    "center_bnds=2.\n",
    "hph=1e0 #regularization parameter of the PSF\n",
    "wh=cat(ones(psf_size,order),zeros(psf_size,order),dims=3) #weights of the PSF\n",
    "Rh=WeightedTikhonov(hph, wh);\n",
    "\n",
    "h_se1=ASSET.SeriesExpansionPSF(zeros(psf_size,order), 0.0,ker ,Rh)\n",
    "z_se1=copy(z_pm) #initiliaze spectrum with an approximation of the solution to avoid local minima\n",
    "\n",
    "z_fse1,h_fse1 =ASSET.extract_spectrum!(z_se1, F, h_se1, D ,Rz, b;\n",
    "            auto_calib=Val(true),\n",
    "            max_iter=100,\n",
    "            extract_kwds=(psf_center_bnd=center_bnds,\n",
    "                          psf_shift_bnds=shift_bnds,\n",
    "                          max_iter=10))"
   ]
  },
  {
   "cell_type": "markdown",
   "id": "456a6730",
   "metadata": {},
   "source": [
    "#### With two orders"
   ]
  },
  {
   "cell_type": "code",
   "execution_count": null,
   "id": "faac8487",
   "metadata": {},
   "outputs": [],
   "source": [
    "order=2\n",
    "\n",
    "shift_bnds=(-1.,1.)\n",
    "center_bnds=2.\n",
    "hph=1e0 #regularization parameter of the PSF\n",
    "wh=cat(ones(psf_size,order),zeros(psf_size,order),dims=3)\n",
    "Rh=WeightedTikhonov(hph, wh);\n",
    "\n",
    "h_se2=ASSET.SeriesExpansionPSF(zeros(psf_size,order), 0.0, ker ,Rh)\n",
    "z_se2=copy(z_pm) #initiliaze spectrum with an approximation of the solution to avoid local minima\n",
    "\n",
    "z_fse2,h_fse2=ASSET.extract_spectrum!(z_se2, F, h_se2, D ,Rz, b;\n",
    "            auto_calib=Val(true),\n",
    "            max_iter=100,\n",
    "            extract_kwds=(psf_center_bnd=center_bnds,\n",
    "                          psf_shift_bnds=shift_bnds,\n",
    "                          max_iter=10))                         "
   ]
  }
 ],
 "metadata": {
  "kernelspec": {
   "display_name": "Julia 1.11.4",
   "language": "julia",
   "name": "julia-1.11"
  },
  "language_info": {
   "file_extension": ".jl",
   "mimetype": "application/julia",
   "name": "julia",
   "version": "1.11.4"
  }
 },
 "nbformat": 4,
 "nbformat_minor": 5
}
