{
 "cells": [
  {
   "cell_type": "markdown",
   "id": "2f2594d7",
   "metadata": {},
   "source": [
    "# ASSET demonstration\n",
    "\n",
    "This notebook aims at showing how to use the ASSET package to extract a spectrum\n",
    "from log-slit spectroscopy data. This example extracts the spectrum of a star\n",
    "companion from coronagraphic data.\n"
   ]
  },
  {
   "cell_type": "code",
   "execution_count": null,
   "id": "1e49f234",
   "metadata": {},
   "outputs": [],
   "source": [
    "# Load packages\n",
    "using DelimitedFiles\n",
    "using InterpolationKernels\n",
    "using LinearInterpolators\n",
    "using InverseProblem\n",
    "\n",
    "using ASSET"
   ]
  },
  {
   "cell_type": "markdown",
   "id": "0d799ef9",
   "metadata": {},
   "source": [
    "## Generation of a Toy Model\n",
    "---\n",
    "\n",
    "The following cells generate a Toy Model to present how to use ASSET.\n",
    "The spectrum used in the Toy Model was obtained from the P330 E CALSPEC reference spectrum (Bohlin, Gordon & Tremblay 2014). We use a version of this spectrum sampled with 1024 points between 0.5 and 10 microns.\n",
    "The PSF used in the Toy Model was obtained from the P330 E MIRI LRS data (see Figure 3. and 4. of the paper). We used the two-order non-parametric PSF.\n",
    "We generate some spatial and spectral coordinate maps align on the grid."
   ]
  },
  {
   "cell_type": "code",
   "execution_count": null,
   "id": "ec7604bf",
   "metadata": {},
   "outputs": [],
   "source": [
    "# Interpolation kernel \n",
    "ker = CatmullRomSpline(Float64, Flat)\n",
    "\n",
    "# Get the Toy Model spectrum\n",
    "lz = readdlm(\"p330e_for_toymodel.txt\");\n",
    "l_tm=lz[:,1]\n",
    "z_tm=lz[:,2]\n",
    "λmin=l_tm[1]\n",
    "λmax=l_tm[end]\n",
    "\n",
    "Nz=length(z_tm)\n",
    "# Get the Toy Model PSF and its data\n",
    "h2=readdlm(\"nonparametric_parameters_at_order_2.txt\")[1:86,:] #FIXME : the PSF is not centered in psf_size/2, may be problematic? (It is here but just for data generation)\n",
    "shift2=0.58 # generate an arbitrary shift of the PSF\n",
    "order2=size(h2)[2]\n",
    "psf_size=size(h2)[1]\n",
    "\n",
    "# Generate an arbitrary regularization for the PSF structure\n",
    "hph=1e0\n",
    "wh=cat(ones(psf_size,order2),zeros(psf_size,order2),dims=3)\n",
    "Rh=WeightedTikhonov(hph, wh);\n",
    "\n",
    "# Generate a non-parametric PSF of order 2\n",
    "h_tm=ASSET.SeriesExpansionPSF(h2, shift2,ker ,Rh)"
   ]
  },
  {
   "cell_type": "code",
   "execution_count": null,
   "id": "02a4d844",
   "metadata": {},
   "outputs": [],
   "source": [
    "m = 840 # Number of columns in the data\n",
    "n = 42  # Number of rows in the data\n",
    "lambda = repeat(collect(range(λmin, stop=λmax, length=m))', outer=(n,1,2)) # generate a spectral map for two dithers\n",
    "rho = cat(repeat(collect(range(-n/3, step=1, length=n)), outer=(1,m)),\n",
    "          repeat(collect(range(-2*n/3, step=1, length=n)), outer=(1,m)), dims=3) #generate spatial map for two dithers\n",
    "\n",
    "\n",
    "λz=range(λmin, length=Nz, stop=λmax); #Sampling for the spectrum extraction\n",
    "F = SparseInterpolator(ker, lambda, λz) #Interpolator for the spectrum\n",
    "\n",
    "H=zeros(n,m,2)\n",
    "psf_map!(H, h_tm, rho, lambda)\n",
    "tm=H.*(F*z_tm)\n",
    "\n",
    "data = tm .+ sqrt.(abs.(tm) .+ 1e-6).*randn(n,m,2) #Generate some data with i.i.d photon noise and some readout noise of var 1e-6\n",
    "wgt = (rand(n,m,1) .< 0.9)./(abs.(tm) .+ 1e-6) #Generate some weiths as the inverse of the diagonal covariance of the data and with some defective pixels\n",
    "\n",
    "D = CalibratedData(data, wgt, rho, lambda);"
   ]
  },
  {
   "cell_type": "markdown",
   "id": "f6e3b7d7",
   "metadata": {},
   "source": [
    "## Extractions examples\n",
    "---"
   ]
  },
  {
   "cell_type": "code",
   "execution_count": null,
   "id": "0eaca306",
   "metadata": {},
   "outputs": [],
   "source": [
    "hpz=1e-4 #regularization parameter for the spectrum\n",
    "hpb=1e1  #regularization parameter for the background\n",
    "Rz=WeightedTikhonov(hpz, ones(Nz,1)) #Spectrum regularization\n",
    "Rb=hpb*tikhonov() #Background regularization\n",
    "\n",
    "b=ASSET.BkgMdl(zeros(n,m), Rb) #Background model"
   ]
  },
  {
   "cell_type": "markdown",
   "id": "6cfda2a1",
   "metadata": {},
   "source": [
    "###  Parametric models\n",
    "#### - Chromatic Gaussian"
   ]
  },
  {
   "cell_type": "code",
   "execution_count": null,
   "id": "598c4fe7",
   "metadata": {},
   "outputs": [],
   "source": [
    "parinit = maximum(lambda)^(-2)\n",
    "psf_params_bnds=[(1e-8, 1.)] #The bounds of the gaussian psf parameter for the autocalibration\n",
    "center_bnds=2. #The bounds of the gaussian center for the autocalibration\n",
    "h_pg=ASSET.chromGaussianPSF(parinit)\n",
    "z_pg=zeros(Nz); \n",
    "\n",
    "z_fpg,h_fpg =ASSET.extract_spectrum!(z_pg, F, h_pg, D, Rz, b;\n",
    "                                    auto_calib=Val(true),\n",
    "                                    max_iter=10,\n",
    "                                    extract_kwds=(psf_params_bnds=psf_params_bnds,\n",
    "                                                  psf_center_bnd=center_bnds,\n",
    "                                                  max_iter=10));"
   ]
  },
  {
   "cell_type": "markdown",
   "id": "8d7e3988",
   "metadata": {},
   "source": [
    "#### - Chromatic Moffat"
   ]
  },
  {
   "cell_type": "code",
   "execution_count": null,
   "id": "569121df",
   "metadata": {},
   "outputs": [],
   "source": [
    "parinit = [h_pg.a, 2.]\n",
    "psf_params_bnds=[(0., 3.);(1., 3.)]\n",
    "center_bnds=2.\n",
    "h_pm=ASSET.chromMoffatPSF(parinit)\n",
    "z_pm=zeros(Nz)\n",
    "\n",
    "z_fpm,h_fpm =ASSET.extract_spectrum!(z_pm, F, h_pm, D ,Rz, b;\n",
    "                                    auto_calib=Val(true),\n",
    "                                    max_iter=100,\n",
    "                                    extract_kwds=(psf_params_bnds=psf_params_bnds, \n",
    "                                                    psf_center_bnd=center_bnds,\n",
    "                                                    max_iter=10));"
   ]
  },
  {
   "cell_type": "markdown",
   "id": "56e74d44",
   "metadata": {},
   "source": [
    "### Series expansion PSF\n",
    "\n",
    "#### - With one order"
   ]
  },
  {
   "cell_type": "code",
   "execution_count": null,
   "id": "d55753ae",
   "metadata": {},
   "outputs": [],
   "source": [
    "order=1\n",
    "\n",
    "shift_bnds=(-1.,1.)\n",
    "center_bnds=2.\n",
    "hph=1e0 #regularization parameter of the PSF\n",
    "wh=cat(ones(psf_size,order),zeros(psf_size,order),dims=3) #weights of the PSF\n",
    "Rh=WeightedTikhonov(hph, wh);\n",
    "\n",
    "h_se1=ASSET.SeriesExpansionPSF(zeros(psf_size,order), 0.0,ker ,Rh)\n",
    "z_se1=copy(z_pm) #initiliaze spectrum with an approximation of the solution to avoid local minima\n",
    "\n",
    "z_fse1,h_fse1 =ASSET.extract_spectrum!(z_se1, F, h_se1, D ,Rz, b;\n",
    "            auto_calib=Val(true),\n",
    "            max_iter=100,\n",
    "            extract_kwds=(psf_center_bnd=center_bnds,\n",
    "                          psf_shift_bnds=shift_bnds,\n",
    "                          max_iter=10));"
   ]
  },
  {
   "cell_type": "markdown",
   "id": "456a6730",
   "metadata": {},
   "source": [
    "#### - With two orders"
   ]
  },
  {
   "cell_type": "code",
   "execution_count": null,
   "id": "faac8487",
   "metadata": {},
   "outputs": [],
   "source": [
    "order=2\n",
    "\n",
    "shift_bnds=(-1.,1.)\n",
    "center_bnds=2.\n",
    "hph=1e0 #regularization parameter of the PSF\n",
    "wh=cat(ones(psf_size,order),zeros(psf_size,order),dims=3)\n",
    "Rh=WeightedTikhonov(hph, wh);\n",
    "\n",
    "h_se2=ASSET.SeriesExpansionPSF(zeros(psf_size,order), 0.0, ker ,Rh)\n",
    "z_se2=copy(z_pm) #initiliaze spectrum with an approximation of the solution to avoid local minima\n",
    "\n",
    "z_fse2,h_fse2=ASSET.extract_spectrum!(z_se2, F, h_se2, D ,Rz, b;\n",
    "            auto_calib=Val(true),\n",
    "            max_iter=100,\n",
    "            extract_kwds=(psf_center_bnd=center_bnds,\n",
    "                          psf_shift_bnds=shift_bnds,\n",
    "                          max_iter=10));"
   ]
  },
  {
   "cell_type": "markdown",
   "id": "f968f5d1",
   "metadata": {},
   "source": [
    "## Results\n",
    "---\n"
   ]
  },
  {
   "cell_type": "code",
   "execution_count": null,
   "id": "69670f9b",
   "metadata": {},
   "outputs": [],
   "source": [
    "using PyPlot\n",
    "const plt = PyPlot"
   ]
  },
  {
   "cell_type": "markdown",
   "id": "aa7a62b8",
   "metadata": {},
   "source": [
    "### - Data\n",
    "\n",
    "Plotting the first frame of the `CalibratedData` structure:"
   ]
  },
  {
   "cell_type": "code",
   "execution_count": null,
   "id": "07c64fb0",
   "metadata": {},
   "outputs": [],
   "source": [
    "frame = 2\n",
    "fig, axs = plt.subplots(2,2)\n",
    "axs[1,1].set_title(\"data\")\n",
    "im1 = axs[1,1].imshow(D.d[:,:,frame], aspect=\"auto\", cmap=\"gist_stern\", interpolation=\"none\")\n",
    "fig.colorbar(im1)\n",
    "axs[1,2].set_title(\"weights\")\n",
    "im2 = axs[1,2].imshow(D.w[:,:,frame], aspect=\"auto\", cmap=\"gist_stern\", interpolation=\"none\", vmax=4)\n",
    "fig.colorbar(im2)\n",
    "axs[2,1].set_title(\"angular distance map\")\n",
    "im3 = axs[2,1].imshow(D.ρ_map[:,:,frame], aspect=\"auto\", cmap=\"plasma\")\n",
    "fig.colorbar(im3)\n",
    "axs[2,2].set_title(\"wavelength map\")\n",
    "im4 = axs[2,2].imshow(D.λ_map[:,:,frame], aspect=\"auto\", cmap=\"plasma\")\n",
    "fig.colorbar(im4)\n",
    "display(gcf())"
   ]
  },
  {
   "cell_type": "markdown",
   "id": "4247ee05",
   "metadata": {},
   "source": [
    "### - PSF models"
   ]
  },
  {
   "cell_type": "code",
   "execution_count": null,
   "id": "60c32241",
   "metadata": {},
   "outputs": [],
   "source": [
    "h_tm(rho[:,:,1],lambda[:,:,1])"
   ]
  },
  {
   "cell_type": "code",
   "execution_count": null,
   "id": "24722a3e",
   "metadata": {},
   "outputs": [],
   "source": [
    "fig, axs = plt.subplots(1,2)#FIXME: plot the psfs for different wavelengths\n",
    "axs[1].plot(h_fpg.(rho[:,1,1],lambda[:,1,1]))\n",
    "axs[1].plot(h_fpm.(rho[:,1,1],lambda[:,1,1]))\n",
    "axs[1].plot(h_fse1(rho[:,:,1],lambda[:,:,1]).x[:,1,1])\n",
    "axs[1].plot(h_fse2(rho[:,:,1],lambda[:,:,1]).x[:,1,1])\n",
    "axs[1].plot(h_tm(rho[:,:,1],lambda[:,:,1]).x[:,1,1], color=\"black\", label=\"ground truth\")\n",
    "axs[1].legend()\n",
    "display(gcf())"
   ]
  },
  {
   "cell_type": "markdown",
   "id": "0ca4a84b",
   "metadata": {},
   "source": [
    "### - SED"
   ]
  },
  {
   "cell_type": "code",
   "execution_count": null,
   "id": "55eacae1",
   "metadata": {},
   "outputs": [],
   "source": [
    "fig, axs = plt.subplots()\n",
    "axs.plot(λz, z_fpg, label=\"chromatic gaussian\")\n",
    "axs.plot(λz, z_fpm, label=\"chromatic moffat\")\n",
    "axs.plot(λz, z_fse1, label=\"series exp. order 1\")\n",
    "axs.plot(λz, z_fse2, label=\"series exp. order 2\")\n",
    "axs.plot(λz, z_tm, color=\"black\", label=\"ground truth\")\n",
    "axs.set_ylim(0., 90.)\n",
    "axs.legend()\n",
    "display(gcf())"
   ]
  }
 ],
 "metadata": {
  "kernelspec": {
   "display_name": "Julia 1.11.6",
   "language": "julia",
   "name": "julia-1.11"
  },
  "language_info": {
   "file_extension": ".jl",
   "mimetype": "application/julia",
   "name": "julia",
   "version": "1.11.6"
  }
 },
 "nbformat": 4,
 "nbformat_minor": 5
}
